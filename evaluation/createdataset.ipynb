{
 "cells": [
  {
   "cell_type": "code",
   "execution_count": 1,
   "metadata": {},
   "outputs": [
    {
     "name": "stderr",
     "output_type": "stream",
     "text": [
      "c:\\Users\\aydem\\AppData\\Local\\Programs\\Python\\Python312\\Lib\\site-packages\\tqdm\\auto.py:21: TqdmWarning: IProgress not found. Please update jupyter and ipywidgets. See https://ipywidgets.readthedocs.io/en/stable/user_install.html\n",
      "  from .autonotebook import tqdm as notebook_tqdm\n"
     ]
    }
   ],
   "source": [
    "from llama_index.core import SimpleDirectoryReader\n",
    "import os\n",
    "from ragas.testset.generator import TestsetGenerator\n",
    "from ragas.testset.evolutions import simple, reasoning, multi_context\n",
    "from llama_index.llms.openai import OpenAI\n",
    "from llama_index.embeddings.openai import OpenAIEmbedding\n",
    "import pickle\n",
    "import nest_asyncio\n",
    "\n",
    "nest_asyncio.apply()\n",
    "os.environ[\"OPENAI_API_KEY\"] = \"sk-proj-VpoWx9hxbydMWtacix9qT3BlbkFJUeNz0FM5JGxVptcW5N6b\""
   ]
  },
  {
   "cell_type": "markdown",
   "metadata": {},
   "source": [
    "# Load Dataset"
   ]
  },
  {
   "cell_type": "code",
   "execution_count": 2,
   "metadata": {},
   "outputs": [],
   "source": [
    "documents = SimpleDirectoryReader(\"C:/Users/aydem/Documents/salesassistent/dataset/test/\").load_data()"
   ]
  },
  {
   "cell_type": "markdown",
   "metadata": {},
   "source": [
    "# Create Testset"
   ]
  },
  {
   "cell_type": "code",
   "execution_count": 4,
   "metadata": {},
   "outputs": [],
   "source": [
    "generator_llm = OpenAI(model=\"gpt-3.5-turbo-16k\")\n",
    "critic_llm = OpenAI(model=\"gpt-4\")\n",
    "embeddings = OpenAIEmbedding()"
   ]
  },
  {
   "cell_type": "code",
   "execution_count": 9,
   "metadata": {},
   "outputs": [],
   "source": [
    "generator = TestsetGenerator.from_llama_index(\n",
    "    generator_llm=generator_llm,\n",
    "    critic_llm=critic_llm,\n",
    "    embeddings=embeddings,\n",
    ")"
   ]
  },
  {
   "cell_type": "code",
   "execution_count": 12,
   "metadata": {},
   "outputs": [
    {
     "name": "stderr",
     "output_type": "stream",
     "text": [
      "embedding nodes:   0%|          | 0/20 [00:00<?, ?it/s]"
     ]
    },
    {
     "name": "stderr",
     "output_type": "stream",
     "text": [
      "Filename and doc_id are the same for all nodes.                 \n",
      "Generating:   0%|          | 0/5 [00:00<?, ?it/s]Retrying llama_index.llms.openai.base.OpenAI._achat in 0.17151908127128157 seconds as it raised RateLimitError: Error code: 429 - {'error': {'message': 'Rate limit reached for gpt-4 in organization org-aaIX57sHwcjWrN4hvYRzrLhN on tokens per min (TPM): Limit 10000, Used 9776, Requested 1605. Please try again in 8.286s. Visit https://platform.openai.com/account/rate-limits to learn more.', 'type': 'tokens', 'param': None, 'code': 'rate_limit_exceeded'}}.\n",
      "Retrying llama_index.llms.openai.base.OpenAI._achat in 0.6670256458833863 seconds as it raised RateLimitError: Error code: 429 - {'error': {'message': 'Rate limit reached for gpt-4 in organization org-aaIX57sHwcjWrN4hvYRzrLhN on tokens per min (TPM): Limit 10000, Used 8718, Requested 1604. Please try again in 1.932s. Visit https://platform.openai.com/account/rate-limits to learn more.', 'type': 'tokens', 'param': None, 'code': 'rate_limit_exceeded'}}.\n",
      "Retrying llama_index.llms.openai.base.OpenAI._achat in 0.3473126358794031 seconds as it raised RateLimitError: Error code: 429 - {'error': {'message': 'Rate limit reached for gpt-4 in organization org-aaIX57sHwcjWrN4hvYRzrLhN on tokens per min (TPM): Limit 10000, Used 8720, Requested 1604. Please try again in 1.944s. Visit https://platform.openai.com/account/rate-limits to learn more.', 'type': 'tokens', 'param': None, 'code': 'rate_limit_exceeded'}}.\n",
      "Retrying llama_index.llms.openai.base.OpenAI._achat in 0.22857237183080736 seconds as it raised RateLimitError: Error code: 429 - {'error': {'message': 'Rate limit reached for gpt-4 in organization org-aaIX57sHwcjWrN4hvYRzrLhN on tokens per min (TPM): Limit 10000, Used 8718, Requested 1610. Please try again in 1.968s. Visit https://platform.openai.com/account/rate-limits to learn more.', 'type': 'tokens', 'param': None, 'code': 'rate_limit_exceeded'}}.\n",
      "Generating:  20%|██        | 1/5 [00:38<02:33, 38.27s/it]Retrying llama_index.llms.openai.base.OpenAI._achat in 1.1944590557865413 seconds as it raised RateLimitError: Error code: 429 - {'error': {'message': 'Rate limit reached for gpt-4 in organization org-aaIX57sHwcjWrN4hvYRzrLhN on tokens per min (TPM): Limit 10000, Used 9808, Requested 1605. Please try again in 8.478s. Visit https://platform.openai.com/account/rate-limits to learn more.', 'type': 'tokens', 'param': None, 'code': 'rate_limit_exceeded'}}.\n",
      "Retrying llama_index.llms.openai.base.OpenAI._achat in 1.4693015019504732 seconds as it raised RateLimitError: Error code: 429 - {'error': {'message': 'Rate limit reached for gpt-4 in organization org-aaIX57sHwcjWrN4hvYRzrLhN on tokens per min (TPM): Limit 10000, Used 9777, Requested 1610. Please try again in 8.322s. Visit https://platform.openai.com/account/rate-limits to learn more.', 'type': 'tokens', 'param': None, 'code': 'rate_limit_exceeded'}}.\n",
      "Retrying llama_index.llms.openai.base.OpenAI._achat in 1.4406182145057627 seconds as it raised RateLimitError: Error code: 429 - {'error': {'message': 'Rate limit reached for gpt-4 in organization org-aaIX57sHwcjWrN4hvYRzrLhN on tokens per min (TPM): Limit 10000, Used 9776, Requested 1604. Please try again in 8.28s. Visit https://platform.openai.com/account/rate-limits to learn more.', 'type': 'tokens', 'param': None, 'code': 'rate_limit_exceeded'}}.\n",
      "Generating:  40%|████      | 2/5 [01:01<01:28, 29.39s/it]Retrying llama_index.llms.openai.base.OpenAI._achat in 0.5188179546253042 seconds as it raised RateLimitError: Error code: 429 - {'error': {'message': 'Rate limit reached for gpt-4 in organization org-aaIX57sHwcjWrN4hvYRzrLhN on tokens per min (TPM): Limit 10000, Used 9906, Requested 1610. Please try again in 9.096s. Visit https://platform.openai.com/account/rate-limits to learn more.', 'type': 'tokens', 'param': None, 'code': 'rate_limit_exceeded'}}.\n",
      "Retrying llama_index.llms.openai.base.OpenAI._achat in 0.4826178871443252 seconds as it raised RateLimitError: Error code: 429 - {'error': {'message': 'Rate limit reached for gpt-4 in organization org-aaIX57sHwcjWrN4hvYRzrLhN on tokens per min (TPM): Limit 10000, Used 9387, Requested 1610. Please try again in 5.982s. Visit https://platform.openai.com/account/rate-limits to learn more.', 'type': 'tokens', 'param': None, 'code': 'rate_limit_exceeded'}}.\n",
      "Retrying llama_index.llms.openai.base.OpenAI._achat in 0.12427537350382156 seconds as it raised RateLimitError: Error code: 429 - {'error': {'message': 'Rate limit reached for gpt-4 in organization org-aaIX57sHwcjWrN4hvYRzrLhN on tokens per min (TPM): Limit 10000, Used 9789, Requested 1610. Please try again in 8.394s. Visit https://platform.openai.com/account/rate-limits to learn more.', 'type': 'tokens', 'param': None, 'code': 'rate_limit_exceeded'}}.\n",
      "Retrying llama_index.llms.openai.base.OpenAI._achat in 0.49713893955927324 seconds as it raised RateLimitError: Error code: 429 - {'error': {'message': 'Rate limit reached for gpt-4 in organization org-aaIX57sHwcjWrN4hvYRzrLhN on tokens per min (TPM): Limit 10000, Used 9477, Requested 1608. Please try again in 6.51s. Visit https://platform.openai.com/account/rate-limits to learn more.', 'type': 'tokens', 'param': None, 'code': 'rate_limit_exceeded'}}.\n",
      "Retrying llama_index.llms.openai.base.OpenAI._achat in 1.025068982985265 seconds as it raised RateLimitError: Error code: 429 - {'error': {'message': 'Rate limit reached for gpt-4 in organization org-aaIX57sHwcjWrN4hvYRzrLhN on tokens per min (TPM): Limit 10000, Used 9531, Requested 1608. Please try again in 6.834s. Visit https://platform.openai.com/account/rate-limits to learn more.', 'type': 'tokens', 'param': None, 'code': 'rate_limit_exceeded'}}.\n",
      "Retrying llama_index.llms.openai.base.OpenAI._achat in 0.617471747647068 seconds as it raised RateLimitError: Error code: 429 - {'error': {'message': 'Rate limit reached for gpt-4 in organization org-aaIX57sHwcjWrN4hvYRzrLhN on tokens per min (TPM): Limit 10000, Used 9770, Requested 1610. Please try again in 8.28s. Visit https://platform.openai.com/account/rate-limits to learn more.', 'type': 'tokens', 'param': None, 'code': 'rate_limit_exceeded'}}.\n",
      "Retrying llama_index.llms.openai.base.OpenAI._achat in 0.27474456567362937 seconds as it raised RateLimitError: Error code: 429 - {'error': {'message': 'Rate limit reached for gpt-4 in organization org-aaIX57sHwcjWrN4hvYRzrLhN on tokens per min (TPM): Limit 10000, Used 9958, Requested 1610. Please try again in 9.408s. Visit https://platform.openai.com/account/rate-limits to learn more.', 'type': 'tokens', 'param': None, 'code': 'rate_limit_exceeded'}}.\n",
      "Retrying llama_index.llms.openai.base.OpenAI._achat in 0.5136246825612079 seconds as it raised RateLimitError: Error code: 429 - {'error': {'message': 'Rate limit reached for gpt-4 in organization org-aaIX57sHwcjWrN4hvYRzrLhN on tokens per min (TPM): Limit 10000, Used 9820, Requested 1608. Please try again in 8.568s. Visit https://platform.openai.com/account/rate-limits to learn more.', 'type': 'tokens', 'param': None, 'code': 'rate_limit_exceeded'}}.\n",
      "Generating: 100%|██████████| 5/5 [04:30<00:00, 54.07s/it]\n"
     ]
    }
   ],
   "source": [
    "# generate testset\n",
    "testset = generator.generate_with_llamaindex_docs(\n",
    "    documents,\n",
    "    test_size=5,\n",
    "    distributions={simple: 0.5, reasoning: 0.25, multi_context: 0.25},\n",
    ")"
   ]
  },
  {
   "cell_type": "code",
   "execution_count": 13,
   "metadata": {},
   "outputs": [
    {
     "data": {
      "text/html": [
       "<div>\n",
       "<style scoped>\n",
       "    .dataframe tbody tr th:only-of-type {\n",
       "        vertical-align: middle;\n",
       "    }\n",
       "\n",
       "    .dataframe tbody tr th {\n",
       "        vertical-align: top;\n",
       "    }\n",
       "\n",
       "    .dataframe thead th {\n",
       "        text-align: right;\n",
       "    }\n",
       "</style>\n",
       "<table border=\"1\" class=\"dataframe\">\n",
       "  <thead>\n",
       "    <tr style=\"text-align: right;\">\n",
       "      <th></th>\n",
       "      <th>question</th>\n",
       "      <th>contexts</th>\n",
       "      <th>ground_truth</th>\n",
       "      <th>evolution_type</th>\n",
       "      <th>metadata</th>\n",
       "      <th>episode_done</th>\n",
       "    </tr>\n",
       "  </thead>\n",
       "  <tbody>\n",
       "    <tr>\n",
       "      <th>0</th>\n",
       "      <td>What is included in the insurance coverage for...</td>\n",
       "      <td>[ \\nist ausschließlich der Wortlaut der Versic...</td>\n",
       "      <td>The answer to given question is not present in...</td>\n",
       "      <td>simple</td>\n",
       "      <td>[{'page_label': '3', 'file_name': 'fahrrad.pdf...</td>\n",
       "      <td>True</td>\n",
       "    </tr>\n",
       "    <tr>\n",
       "      <th>1</th>\n",
       "      <td>What services are included in the \"Telefonisch...</td>\n",
       "      <td>[  = versichert\\nDiese Leistungsübersicht ist ...</td>\n",
       "      <td>Telefonische Erstberatung is included in the s...</td>\n",
       "      <td>simple</td>\n",
       "      <td>[{'page_label': '3', 'file_name': 'cyberversic...</td>\n",
       "      <td>True</td>\n",
       "    </tr>\n",
       "    <tr>\n",
       "      <th>2</th>\n",
       "      <td>What determines the bike insurance premium?</td>\n",
       "      <td>[Leistungen BASIS-Tarif OPTIMAL-Tarif\\nEntschä...</td>\n",
       "      <td>The height of the insurance premium depends on...</td>\n",
       "      <td>reasoning</td>\n",
       "      <td>[{'page_label': '3', 'file_name': 'fahrrad.pdf...</td>\n",
       "      <td>True</td>\n",
       "    </tr>\n",
       "    <tr>\n",
       "      <th>3</th>\n",
       "      <td>What are the benefits of WGV's new bicycle ins...</td>\n",
       "      <td>[wgv.de/fahrrad\\nDIE FAHRRAD-\\nVERSICHERUNG DE...</td>\n",
       "      <td>The benefits of WGV's new bicycle insurance ta...</td>\n",
       "      <td>multi_context</td>\n",
       "      <td>[{'page_label': '1', 'file_name': 'fahrrad.pdf...</td>\n",
       "      <td>True</td>\n",
       "    </tr>\n",
       "    <tr>\n",
       "      <th>4</th>\n",
       "      <td>What is the coverage area of my WGV insurance ...</td>\n",
       "      <td>[Leistungen BASIS-Tarif OPTIMAL-Tarif\\nEntschä...</td>\n",
       "      <td>Weltweite Geltung, zeitlich unbegrenzt bis 12 ...</td>\n",
       "      <td>reasoning</td>\n",
       "      <td>[{'page_label': '3', 'file_name': 'fahrrad.pdf...</td>\n",
       "      <td>True</td>\n",
       "    </tr>\n",
       "  </tbody>\n",
       "</table>\n",
       "</div>"
      ],
      "text/plain": [
       "                                            question  \\\n",
       "0  What is included in the insurance coverage for...   \n",
       "1  What services are included in the \"Telefonisch...   \n",
       "2        What determines the bike insurance premium?   \n",
       "3  What are the benefits of WGV's new bicycle ins...   \n",
       "4  What is the coverage area of my WGV insurance ...   \n",
       "\n",
       "                                            contexts  \\\n",
       "0  [ \\nist ausschließlich der Wortlaut der Versic...   \n",
       "1  [  = versichert\\nDiese Leistungsübersicht ist ...   \n",
       "2  [Leistungen BASIS-Tarif OPTIMAL-Tarif\\nEntschä...   \n",
       "3  [wgv.de/fahrrad\\nDIE FAHRRAD-\\nVERSICHERUNG DE...   \n",
       "4  [Leistungen BASIS-Tarif OPTIMAL-Tarif\\nEntschä...   \n",
       "\n",
       "                                        ground_truth evolution_type  \\\n",
       "0  The answer to given question is not present in...         simple   \n",
       "1  Telefonische Erstberatung is included in the s...         simple   \n",
       "2  The height of the insurance premium depends on...      reasoning   \n",
       "3  The benefits of WGV's new bicycle insurance ta...  multi_context   \n",
       "4  Weltweite Geltung, zeitlich unbegrenzt bis 12 ...      reasoning   \n",
       "\n",
       "                                            metadata  episode_done  \n",
       "0  [{'page_label': '3', 'file_name': 'fahrrad.pdf...          True  \n",
       "1  [{'page_label': '3', 'file_name': 'cyberversic...          True  \n",
       "2  [{'page_label': '3', 'file_name': 'fahrrad.pdf...          True  \n",
       "3  [{'page_label': '1', 'file_name': 'fahrrad.pdf...          True  \n",
       "4  [{'page_label': '3', 'file_name': 'fahrrad.pdf...          True  "
      ]
     },
     "execution_count": 13,
     "metadata": {},
     "output_type": "execute_result"
    }
   ],
   "source": [
    "df = testset.to_pandas()\n",
    "df.head()"
   ]
  },
  {
   "cell_type": "markdown",
   "metadata": {},
   "source": [
    "# Export and Import Dataset"
   ]
  },
  {
   "cell_type": "code",
   "execution_count": 19,
   "metadata": {},
   "outputs": [],
   "source": [
    "# Exportieren des Objekts\n",
    "with open('test_dataset.pkl', 'wb') as file:\n",
    "    pickle.dump(testset, file)"
   ]
  },
  {
   "cell_type": "code",
   "execution_count": 2,
   "metadata": {},
   "outputs": [],
   "source": [
    "# Laden des Objekts\n",
    "with open('test_dataset.pkl', 'rb') as file:\n",
    "    loaded_test_dataset = pickle.load(file)"
   ]
  },
  {
   "cell_type": "code",
   "execution_count": 3,
   "metadata": {},
   "outputs": [
    {
     "data": {
      "text/html": [
       "<div>\n",
       "<style scoped>\n",
       "    .dataframe tbody tr th:only-of-type {\n",
       "        vertical-align: middle;\n",
       "    }\n",
       "\n",
       "    .dataframe tbody tr th {\n",
       "        vertical-align: top;\n",
       "    }\n",
       "\n",
       "    .dataframe thead th {\n",
       "        text-align: right;\n",
       "    }\n",
       "</style>\n",
       "<table border=\"1\" class=\"dataframe\">\n",
       "  <thead>\n",
       "    <tr style=\"text-align: right;\">\n",
       "      <th></th>\n",
       "      <th>question</th>\n",
       "      <th>contexts</th>\n",
       "      <th>ground_truth</th>\n",
       "      <th>evolution_type</th>\n",
       "      <th>metadata</th>\n",
       "      <th>episode_done</th>\n",
       "    </tr>\n",
       "  </thead>\n",
       "  <tbody>\n",
       "    <tr>\n",
       "      <th>0</th>\n",
       "      <td>What is included in the insurance coverage for...</td>\n",
       "      <td>[ \\nist ausschließlich der Wortlaut der Versic...</td>\n",
       "      <td>The answer to given question is not present in...</td>\n",
       "      <td>simple</td>\n",
       "      <td>[{'page_label': '3', 'file_name': 'fahrrad.pdf...</td>\n",
       "      <td>True</td>\n",
       "    </tr>\n",
       "    <tr>\n",
       "      <th>1</th>\n",
       "      <td>What services are included in the \"Telefonisch...</td>\n",
       "      <td>[  = versichert\\nDiese Leistungsübersicht ist ...</td>\n",
       "      <td>Telefonische Erstberatung is included in the s...</td>\n",
       "      <td>simple</td>\n",
       "      <td>[{'page_label': '3', 'file_name': 'cyberversic...</td>\n",
       "      <td>True</td>\n",
       "    </tr>\n",
       "    <tr>\n",
       "      <th>2</th>\n",
       "      <td>What determines the bike insurance premium?</td>\n",
       "      <td>[Leistungen BASIS-Tarif OPTIMAL-Tarif\\nEntschä...</td>\n",
       "      <td>The height of the insurance premium depends on...</td>\n",
       "      <td>reasoning</td>\n",
       "      <td>[{'page_label': '3', 'file_name': 'fahrrad.pdf...</td>\n",
       "      <td>True</td>\n",
       "    </tr>\n",
       "    <tr>\n",
       "      <th>3</th>\n",
       "      <td>What are the benefits of WGV's new bicycle ins...</td>\n",
       "      <td>[wgv.de/fahrrad\\nDIE FAHRRAD-\\nVERSICHERUNG DE...</td>\n",
       "      <td>The benefits of WGV's new bicycle insurance ta...</td>\n",
       "      <td>multi_context</td>\n",
       "      <td>[{'page_label': '1', 'file_name': 'fahrrad.pdf...</td>\n",
       "      <td>True</td>\n",
       "    </tr>\n",
       "    <tr>\n",
       "      <th>4</th>\n",
       "      <td>What is the coverage area of my WGV insurance ...</td>\n",
       "      <td>[Leistungen BASIS-Tarif OPTIMAL-Tarif\\nEntschä...</td>\n",
       "      <td>Weltweite Geltung, zeitlich unbegrenzt bis 12 ...</td>\n",
       "      <td>reasoning</td>\n",
       "      <td>[{'page_label': '3', 'file_name': 'fahrrad.pdf...</td>\n",
       "      <td>True</td>\n",
       "    </tr>\n",
       "  </tbody>\n",
       "</table>\n",
       "</div>"
      ],
      "text/plain": [
       "                                            question  \\\n",
       "0  What is included in the insurance coverage for...   \n",
       "1  What services are included in the \"Telefonisch...   \n",
       "2        What determines the bike insurance premium?   \n",
       "3  What are the benefits of WGV's new bicycle ins...   \n",
       "4  What is the coverage area of my WGV insurance ...   \n",
       "\n",
       "                                            contexts  \\\n",
       "0  [ \\nist ausschließlich der Wortlaut der Versic...   \n",
       "1  [  = versichert\\nDiese Leistungsübersicht ist ...   \n",
       "2  [Leistungen BASIS-Tarif OPTIMAL-Tarif\\nEntschä...   \n",
       "3  [wgv.de/fahrrad\\nDIE FAHRRAD-\\nVERSICHERUNG DE...   \n",
       "4  [Leistungen BASIS-Tarif OPTIMAL-Tarif\\nEntschä...   \n",
       "\n",
       "                                        ground_truth evolution_type  \\\n",
       "0  The answer to given question is not present in...         simple   \n",
       "1  Telefonische Erstberatung is included in the s...         simple   \n",
       "2  The height of the insurance premium depends on...      reasoning   \n",
       "3  The benefits of WGV's new bicycle insurance ta...  multi_context   \n",
       "4  Weltweite Geltung, zeitlich unbegrenzt bis 12 ...      reasoning   \n",
       "\n",
       "                                            metadata  episode_done  \n",
       "0  [{'page_label': '3', 'file_name': 'fahrrad.pdf...          True  \n",
       "1  [{'page_label': '3', 'file_name': 'cyberversic...          True  \n",
       "2  [{'page_label': '3', 'file_name': 'fahrrad.pdf...          True  \n",
       "3  [{'page_label': '1', 'file_name': 'fahrrad.pdf...          True  \n",
       "4  [{'page_label': '3', 'file_name': 'fahrrad.pdf...          True  "
      ]
     },
     "execution_count": 3,
     "metadata": {},
     "output_type": "execute_result"
    }
   ],
   "source": [
    "df = loaded_test_dataset.to_pandas()\n",
    "df.head()"
   ]
  }
 ],
 "metadata": {
  "kernelspec": {
   "display_name": "Python 3",
   "language": "python",
   "name": "python3"
  },
  "language_info": {
   "codemirror_mode": {
    "name": "ipython",
    "version": 3
   },
   "file_extension": ".py",
   "mimetype": "text/x-python",
   "name": "python",
   "nbconvert_exporter": "python",
   "pygments_lexer": "ipython3",
   "version": "3.12.3"
  }
 },
 "nbformat": 4,
 "nbformat_minor": 2
}
