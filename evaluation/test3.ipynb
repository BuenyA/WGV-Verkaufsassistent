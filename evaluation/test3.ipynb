{
 "cells": [
  {
   "cell_type": "code",
   "execution_count": 16,
   "metadata": {},
   "outputs": [],
   "source": [
    "import os\n",
    "from llama_index.core import download_loader, SimpleDirectoryReader\n",
    "from ragas.testset import TestsetGenerator\n",
    "from ragas.testset.generator import TestsetGenerator\n",
    "from ragas.testset.evolutions import simple, reasoning, multi_context\n",
    "from langchain_openai import ChatOpenAI, OpenAIEmbeddings"
   ]
  },
  {
   "cell_type": "code",
   "execution_count": 6,
   "metadata": {},
   "outputs": [],
   "source": [
    "os.environ['OPENAI_API_KEY'] = 'sk-proj-VpoWx9hxbydMWtacix9qT3BlbkFJUeNz0FM5JGxVptcW5N6b'"
   ]
  },
  {
   "cell_type": "code",
   "execution_count": 4,
   "metadata": {},
   "outputs": [],
   "source": [
    "# load documents\n",
    "reader = SimpleDirectoryReader(\"../dataset/test/\")\n",
    "documents = reader.load_data()"
   ]
  },
  {
   "cell_type": "code",
   "execution_count": 5,
   "metadata": {},
   "outputs": [
    {
     "name": "stdout",
     "output_type": "stream",
     "text": [
      "[Document(id_='cdd2740d-3850-4f7c-b8b3-9fb2b4a3698a', embedding=None, metadata={'page_label': '1', 'file_name': 'cyberversicherung.pdf', 'file_path': 'c:\\\\Users\\\\aydem\\\\Documents\\\\salesassistent\\\\dataset\\\\test\\\\cyberversicherung.pdf', 'file_type': 'application/pdf', 'file_size': 2495712, 'creation_date': '2024-07-11', 'last_modified_date': '2024-05-22'}, excluded_embed_metadata_keys=['file_name', 'file_type', 'file_size', 'creation_date', 'last_modified_date', 'last_accessed_date'], excluded_llm_metadata_keys=['file_name', 'file_type', 'file_size', 'creation_date', 'last_modified_date', 'last_accessed_date'], relationships={}, text='JETZT \\nNEU!\\nDIE CYBERVERSICHERUNG  \\nDER WGV.\\nwgv.de/cyber\\nGREIFEN BEI CYBERANGRIFFEN:', mimetype='text/plain', start_char_idx=None, end_char_idx=None, text_template='{metadata_str}\\n\\n{content}', metadata_template='{key}: {value}', metadata_seperator='\\n'), Document(id_='659fdfbf-bd9e-46df-8bc9-5fbfae4ee48d', embedding=None, metadata={'page_label': '2', 'file_name': 'cyberversicherung.pdf', 'file_path': 'c:\\\\Users\\\\aydem\\\\Documents\\\\salesassistent\\\\dataset\\\\test\\\\cyberversicherung.pdf', 'file_type': 'application/pdf', 'file_size': 2495712, 'creation_date': '2024-07-11', 'last_modified_date': '2024-05-22'}, excluded_embed_metadata_keys=['file_name', 'file_type', 'file_size', 'creation_date', 'last_modified_date', 'last_accessed_date'], excluded_llm_metadata_keys=['file_name', 'file_type', 'file_size', 'creation_date', 'last_modified_date', 'last_accessed_date'], relationships={}, text=' Nur auf  \\nMeineWGV: \\n5 %   \\nKfz-Rabatt \\nund mehr! \\nMehr Informationen \\nunter wgv.de/cyber\\nOnline-Shopping kann so schön sein. Zwei Klicks und schon \\nist das Traumsofa zum Schnäppchenpreis bestellt. Doch  \\nirgendwie sind seit dem Kauf schon Wochen vergangen und \\nlangsam macht man sich Sorgen, ob man vielleicht auf eine \\nBetrugsmasche reingefallen ist. So etwas \\npassiert den Besten, genau deshalb und \\nfür noch viel mehr, gibt es die Cyber-\\nversicherung der WGV.\\nWEITERE SITUATIONEN, IN DENEN DIE \\nCYBERVERSICHERUNG WEITERHILFT:\\nIdentitätsmissbrauch \\nKriminelle haben online Ihre Adress- und Bankdaten gestoh-\\nlen. Damit kaufen die Betrüger im Netz ein und Sie erhalten die \\nRechnung für Waren, die Sie überhaupt nicht bestellt haben.\\nCyber-Mobbing \\nLeider keine Seltenheit: Cyber-Mobbing. Als Betroffener fühlt \\nman sich in so einem Fall oft hilflos. Die WGV Cyberversiche-\\nrung sorgt nicht nur für eine psychologische Erstbetreuung, \\nsondern kümmert sich außerdem um die Löschung von \\nrechtswidrigen Aussagen und Fake-Fotos.\\nMit Ihrer Treue zur WGV sichern Sie sich ab sofort Jahr für Jahr \\nsatte 5 Prozent Rabatt auf Ihre bei uns versicherten Pkw in \\nder Kfz-Haftpflicht und Kaskoversicherung sowie auf unsere \\nPrivathaftpflicht-, Hausrat-, Rechtsschutz- und Wohngebäu-\\ndeversicherung. Das geht ganz einfach: Je mehr WGV Versi-\\ncherungsprodukte Sie haben, desto mehr Rabatte erhalten \\nSie! \\nAlle Infos zu Ihrem Kundenstatus, den attraktiven Vertrags-\\nrabatten und den weiteren MeineWGV Vorteilen finden Sie \\nauf wgv.de/meinewgv oder in der MeineWGV App.\\nJetzt anmelden und lossparen:MIT  5 % BEITRAG SPAREN!\\nwgv.de/meinewgv\\n*    Inkl. gesetzl. Versicherungsteuer (Stand: Juli 2023).\\nHABEN STARKE \\nRABATTE AM START:\\nNur\\n3,49 €\\nim Monat*DAFÜR BENÖTIGEN SIE \\nDIE CYBERVERSICHERUNG:\\nWoran erkennt man eigentlich eine gute Versicherung? \\nAm großen Namen? An den noch größeren Versprechen? \\nOder vielleicht doch eher am guten Preis-Leistungs-\\nVerhältnis?  \\nFalls auch Sie zu denjenigen gehören, die ihre Hand  \\nbeim letzten Punkt heben, haben wir gute Nachrichten. \\nEndlich können Sie dem unübersichtlichen Tarif-\\nDschungel entfliehen und in den wohlverdienten \\nLeistungsvergleichs- Ruhestand gehen. Mit der WGV  \\nhaben Sie eine Versicherung gefunden, die Sie im \\nSchadenfall nicht alleine lässt. Und Ihnen auch noch das \\ngute Gefühl gibt, beim Beitrag ordentlich \\ngespart zu haben.\\nDas Beste: in Sachen Preis/Leistung gehören wir zu  \\nden Besten. Oder Fairsten. Je nachdem, von welchen  \\nExperten wir gerade getestet wurden.WGV VERSICHERUNG.\\nDIE MIT DEM GUTEN \\nPREIS-LEISTUNGS-VERHÄLTNIS.', mimetype='text/plain', start_char_idx=None, end_char_idx=None, text_template='{metadata_str}\\n\\n{content}', metadata_template='{key}: {value}', metadata_seperator='\\n'), Document(id_='75da9685-f810-45e7-a129-1bedbf975f2b', embedding=None, metadata={'page_label': '3', 'file_name': 'cyberversicherung.pdf', 'file_path': 'c:\\\\Users\\\\aydem\\\\Documents\\\\salesassistent\\\\dataset\\\\test\\\\cyberversicherung.pdf', 'file_type': 'application/pdf', 'file_size': 2495712, 'creation_date': '2024-07-11', 'last_modified_date': '2024-05-22'}, excluded_embed_metadata_keys=['file_name', 'file_type', 'file_size', 'creation_date', 'last_modified_date', 'last_accessed_date'], excluded_llm_metadata_keys=['file_name', 'file_type', 'file_size', 'creation_date', 'last_modified_date', 'last_accessed_date'], relationships={}, text='  = versichert\\nDiese Leistungsübersicht ist lediglich eine Kurzübersicht. Für den Versicherungsschutz \\nist ausschließlich der Wortlaut der Versicherungsbedingungen maßgebend.Bei der Entscheidung für die Cyberversicherung der WGV \\nwird Ihnen unsere Leistungsübersicht von entscheiden-\\ndem Vorteil sein:\\nUnsere Leistungen\\nErsatz für Verluste bei Interneteinkäufen bis zu 3.000 €*\\nErsatz für Verluste bei Internetverkäufen bis zu 3.000 €*\\nIdentitätsmissbrauch\\n(z. B. bei Kreditkarten, Online-Banking, PayPal,\\nOnline-Kundenkonten, Pharming, Phishing, Skimming)bis zu 15.000 €*\\nErsatz von Zahlungs- und Identitätskarten bis zu 250 €*\\nDatenrettungskosten nach Online-Attacke bis zu 2.000 €*\\nLöschung persönlicher und missbräuchlich  \\nverwendeter Datenbis zu 2.000 €*\\nÜbernahme von Selbstbehalt bei Zahlungsinstituten\\nServiceleistungen zur Sperrung von Konten/Karten\\nPsychologische Erstberatung bei Cyber-Mobbing**\\nCyber-Rechtsschutz\\nTelefonische Erstberatung (z. B. bei Cyber-Mobbing, \\nAbo-Fallen, Veröffentlichung persönlicher Daten,  \\nprivate Urheberrechtsverstöße etc.)\\nWeltweiter Geltungsbereich\\n*    Pro Fall, maximal 2 Versicherungsfälle pro Jahr\\n** Eine Erstberatung pro Fall\\nDer Versicherungsschutz der WGV Cyberversicherung \\ngilt auch für Ihre Familienangehörigen in häuslicher \\nGemeinschaft und ist nach Ablauf der Mindestvertrags-\\nlaufzeit täglich kündbar.ÜBRIGENS: ALLE LEISTUNGEN \\nAUF EINEN BLICK:\\n Nur auf  \\nMeineWGV: \\n5 %   \\nKfz-Rabatt \\nund mehr! \\nMit Ihrer Treue zur WGV sichern Sie sich ab sofort Jahr für Jahr \\nsatte 5 Prozent Rabatt auf Ihre bei uns versicherten Pkw in \\nder Kfz-Haftpflicht und Kaskoversicherung sowie auf unsere \\nPrivathaftpflicht-, Hausrat-, Rechtsschutz- und Wohngebäu-\\ndeversicherung. Das geht ganz einfach: Je mehr WGV Versi-\\ncherungsprodukte Sie haben, desto mehr Rabatte erhalten \\nSie! \\nAlle Infos zu Ihrem Kundenstatus, den attraktiven Vertrags-\\nrabatten und den weiteren MeineWGV Vorteilen finden Sie \\nauf wgv.de/meinewgv oder in der MeineWGV App.\\nJetzt anmelden und lossparen:MIT  5 % BEITRAG SPAREN!\\nwgv.de/meinewgv\\nHABEN STARKE \\nRABATTE AM START:', mimetype='text/plain', start_char_idx=None, end_char_idx=None, text_template='{metadata_str}\\n\\n{content}', metadata_template='{key}: {value}', metadata_seperator='\\n'), Document(id_='b8ed8a79-01f3-45b6-882f-6253640679c2', embedding=None, metadata={'page_label': '4', 'file_name': 'cyberversicherung.pdf', 'file_path': 'c:\\\\Users\\\\aydem\\\\Documents\\\\salesassistent\\\\dataset\\\\test\\\\cyberversicherung.pdf', 'file_type': 'application/pdf', 'file_size': 2495712, 'creation_date': '2024-07-11', 'last_modified_date': '2024-05-22'}, excluded_embed_metadata_keys=['file_name', 'file_type', 'file_size', 'creation_date', 'last_modified_date', 'last_accessed_date'], excluded_llm_metadata_keys=['file_name', 'file_type', 'file_size', 'creation_date', 'last_modified_date', 'last_accessed_date'], relationships={}, text='FAHRZEUGE .  \\nAuto, Motorrad, Young&Oldtimer, Moped, Roller, E-Scooter,  \\nWohnmobil, Anhänger, Wohnwagen, YoungDriver, Sonderfahrzeuge\\nHAFTPFLICHT.   \\nFür Privatleute, Hunde- und Pferdehalter, Bauherren, Haus- und  \\nGrundbesitzer, Beschäftigte im öffentlichen Dienst\\nZUHAUSE.  \\nWohngebäude, Hausrat, Bauleistung, Glas, Cyberversicherung\\nUNTERWEGS.  \\nReisegepäck, Musikinstrumente, Fahrrad, Auslandskrankenversicherung\\nVORSORGE.  \\nRisiko-Leben, Kapital-Leben, Rente, betriebliche Altersvorsorge,  \\nBerufsunfähigkeit, Sterbegeld\\nGESUNDHEIT.  \\nZahnzusatz, stationäre Zusatzversicherung, ambulante Zusatz -\\nversicherung, Unfall\\nRECHTSSCHUTZ. \\nFür Privat, Beruf, Verkehr, Wohneigentümer, Mieter und Vermieter,  \\nStarter-RechtsschutzUNSER VERSICHERUNGS-\\nANGEBOT IM ÜBERBLICK.\\nAnschrift:\\nWGV Versicherung\\n70164 Stuttgart\\nWGV Vermittler in Ihrer Nähe:\\nwgv.de/vor-ort\\nService-Hotline:\\n0711 1695-1650\\nMo. – Fr. von 7.45 bis 19.00 Uhr  \\nSamstag von 9.00 bis 14.00 Uhr\\nkundenservice@wgv.de\\nDie Leistungsbeschreibungen in diesem Prospekt sind lediglich eine Kurzübersicht. Für den  \\nVersicherungsschutz ist ausschließlich der Wortlaut der Versicherungsbedingungen maßgebend. \\nAnbieterkennzeichnung: WGV-Versicherung AG, Tübinger Straße 55, 70178 Stuttgart,  \\nVorstand: Dr. Klaus Brachmann (Vorsitzender), Ralf Pfeiffer, Dr. Frank Welfens  \\nHandelsregister: Amtsgericht Stuttgart HRB 7479 \\n4000-4601.0723 DHW', mimetype='text/plain', start_char_idx=None, end_char_idx=None, text_template='{metadata_str}\\n\\n{content}', metadata_template='{key}: {value}', metadata_seperator='\\n'), Document(id_='6a0c5f31-6ff6-4320-b7f0-d343ae697987', embedding=None, metadata={'page_label': '1', 'file_name': 'fahrrad.pdf', 'file_path': 'c:\\\\Users\\\\aydem\\\\Documents\\\\salesassistent\\\\dataset\\\\test\\\\fahrrad.pdf', 'file_type': 'application/pdf', 'file_size': 1280862, 'creation_date': '2024-07-12', 'last_modified_date': '2024-05-22'}, excluded_embed_metadata_keys=['file_name', 'file_type', 'file_size', 'creation_date', 'last_modified_date', 'last_accessed_date'], excluded_llm_metadata_keys=['file_name', 'file_type', 'file_size', 'creation_date', 'last_modified_date', 'last_accessed_date'], relationships={}, text='wgv.de/fahrrad\\nDIE FAHRRAD-\\nVERSICHERUNG DER WGV.\\nGUTER RAT FÜR IHR RAD:\\nNeuer \\nTarif\\nmit besseren\\nLeistungen', mimetype='text/plain', start_char_idx=None, end_char_idx=None, text_template='{metadata_str}\\n\\n{content}', metadata_template='{key}: {value}', metadata_seperator='\\n'), Document(id_='9ee3657c-12dd-47f2-af6f-cab97317157c', embedding=None, metadata={'page_label': '2', 'file_name': 'fahrrad.pdf', 'file_path': 'c:\\\\Users\\\\aydem\\\\Documents\\\\salesassistent\\\\dataset\\\\test\\\\fahrrad.pdf', 'file_type': 'application/pdf', 'file_size': 1280862, 'creation_date': '2024-07-12', 'last_modified_date': '2024-05-22'}, excluded_embed_metadata_keys=['file_name', 'file_type', 'file_size', 'creation_date', 'last_modified_date', 'last_accessed_date'], excluded_llm_metadata_keys=['file_name', 'file_type', 'file_size', 'creation_date', 'last_modified_date', 'last_accessed_date'], relationships={}, text='HABEN STARKE \\nRABATTE AM START:\\n Nur auf  \\nMeineWGV: \\n5 %   \\nKfz-Rabatt \\nund mehr! WGV VERSICHERUNG.\\nDIE MIT DEM GUTEN \\nPREIS-LEISTUNGS-VERHÄLTNIS.\\nDas Beste: in Sachen Preis/Leistung gehören wir zu  \\nden Besten. Oder Fairsten. Je nachdem, von welchen  \\nExperten wir gerade getestet wurden.Woran erkennt man eigentlich eine gute Versicherung? \\nAm großen Namen? An den noch größeren Versprechen? \\nOder vielleicht doch eher am guten Preis-Leistungs-\\nVerhältnis?  \\nFalls auch Sie zu denjenigen gehören, die ihre Hand  \\nbeim letzten Punkt heben, haben wir gute Nachrichten. \\nEndlich können Sie dem unübersichtlichen Tarif-\\nDschungel entfliehen und in den wohlverdienten \\nLeistungsvergleichs- Ruhestand gehen. Mit der WGV  \\nhaben Sie eine Versicherung gefunden, die Sie im \\nSchadenfall nicht alleine lässt. Und Ihnen auch noch das \\ngute Gefühl gibt, beim Beitrag ordentlich \\ngespart zu haben.\\nGut versichert sein lohnt sich – wortwörtlich. Mit MeineWGV \\nkönnen Sie sich ab sofort Jahr für Jahr ganze 5 Prozent Rabatt \\nauf bei uns versicherte Pkw in der Kfz-Haftpflicht und Kasko-\\nversicherung sowie auf unsere Privathaftpflicht-, Hausrat-, \\nRechtsschutz- und Wohngebäudeversicherung sichern.\\nSo einfach gehts: \\nJe mehr WGV Versicherungsprodukte \\nSie haben, desto mehr Rabatte gibt es.\\nJetzt anmelden und lossparen:MIT  5 % BEITRAG SPAREN!\\n App\\nwgv.de/meinewgvRISIK OLEBENS/hyphen.case \\nVERSICHERERFAIRER\\nAusgabe 47/202 3WGV\\n11 weitere Anbieter erhielten\\ndie Note Gut\\nIm T est: 34 Risik olebens-\\nversicherer in Deutschland', mimetype='text/plain', start_char_idx=None, end_char_idx=None, text_template='{metadata_str}\\n\\n{content}', metadata_template='{key}: {value}', metadata_seperator='\\n'), Document(id_='6cf05282-7101-4c6e-93a3-ba9cfd9f2f0d', embedding=None, metadata={'page_label': '3', 'file_name': 'fahrrad.pdf', 'file_path': 'c:\\\\Users\\\\aydem\\\\Documents\\\\salesassistent\\\\dataset\\\\test\\\\fahrrad.pdf', 'file_type': 'application/pdf', 'file_size': 1280862, 'creation_date': '2024-07-12', 'last_modified_date': '2024-05-22'}, excluded_embed_metadata_keys=['file_name', 'file_type', 'file_size', 'creation_date', 'last_modified_date', 'last_accessed_date'], excluded_llm_metadata_keys=['file_name', 'file_type', 'file_size', 'creation_date', 'last_modified_date', 'last_accessed_date'], relationships={}, text='Leistungen BASIS-Tarif OPTIMAL-Tarif\\nEntschädigung zum Neuwert bis 4 Jahre*\\nWeltweite Geltung, zeitlich unbegrenzt bis 12 Monate\\nKeine Selbstbeteiligung 50 €\\nLeistung bei grober Fahrlässigkeit –\\nVersicherungsschutz bei Sportveran -\\nstaltungen einschließlich Training\\nLose verbundene und zum regel-\\nmäßigen Gebrauch dienende Teile\\n(z. B. Fahrradanhänger, Tacho, Schloss)300 € je Teil,  \\nmax. 1.000 €\\nFahrradgepäck –max. 1.000 €\\nVorsorgebetrag – 10 %\\nMobilitätsgarantie  \\n(z. B. Pannenhilfe und Bergungskosten)–\\nAllgefahren-Versicherung –  \\nVersicherungsschutz besteht z. B. für:\\nUnfall-, Fall- oder Sturzschäden\\nDiebstahl (auch Teilediebstahl)\\nVandalismus\\nVerschleiß \\nBedienungsfehler\\nMaterial-, Produktions- und Konstrukti -\\nonsfehler nach Ablauf der gesetzlichen \\nGewährleistungsfrist von 24 Monaten\\nFeuchtigkeits- und Elektronikschäden \\nam Akku oder Motor\\nSchäden beim Transport\\nNehmen wir mal an, Sie fahren mit Ihrem E-Bike zum Einkau-\\nfen. Als Sie mit vollen Tüten die Heimreise antreten wollen, \\nist Ihr Fahrrad Dieben zum Opfer gefallen. Oder Sie sind mit \\nIhrem Mountainbike unterwegs, stürzen über eine gemeine \\nBaumwurzel und der Rahmen Ihres Fahrrads verzieht sich.\\nIst Ihr Fahrrad verbogen oder gestohlen, hat die Fahrradver -\\nsicherung der WGV ihren großen Auftritt. Und das schon ab \\n4,38 € im Monat! Klingt gut, oder? \\nUnd Ihr Versicherungsschutz gilt nicht nur rund um die Uhr, \\nsondern auch rund um den Globus. Nur für den Fall, dass Sie \\nmit Ihrem Drahtesel mal die Welt erkunden wollen.BASIS - oder OPTIMAL -Tarif? Bei der Entscheidung für die \\nFahrradversicherung der WGV wird Ihnen unsere Leistungs -\\nübersicht von entscheidendem Vorteil sein:Sind Sie regelmäßig mit Ihrem E-Bike oder Carbon-Rennrad  \\nunterwegs? Dann empfehlen wir Ihnen unsere neue Fahrrad-\\nversicherung. Mit dieser sind Sie gegen alle Gefahren – ob  \\nFahrraddiebstahl, Vandalismus oder Beschädigung, zum Bei-\\nspiel durch einen Sturz – bestens geschützt. Und gegen Ver -\\nschleiß sind Sie in unserem neuen Tarif jetzt auch abgesichert.\\nDie Höhe des Versicherungsbeitrags hängt von Ihrem gewählten \\nTarif und vom Wert Ihres Fahrrads ab. Wir versichern Ihr maximal \\nvier Jahre altes Fahrrad z. B. im BASIS -Tarif schon ab 4,38 € im \\nMonat. Wie hoch der Beitrag für Ihr Fahrrad ist, können Sie sich \\nganz einfach online ausrechnen. \\n  = versichert – = nicht versichert\\nDiese Leistungsübersicht ist lediglich eine Kurzübersicht. Für den Versicherungsschutz \\nist ausschließlich der Wortlaut der Versicherungsbedingungen maßgebend. Die kom-\\nplette Übersicht mit allen Leistungen finden Sie unter: wgv.de/ fahrrad\\n*  Danach gilt folgende Entschädigung: Bis sechs Jahre 75 % und mehr als sechs Jahre \\n50 % des Neuwerts.GUT VERSICHERT, WENN’S KRACHT \\nODER DIEBE ZUSCHLAGEN.\\nVERSCHLEISS \\nMITVERSICHERT \\nIM BASIS- UND \\nIM OPTIMAL-TARIF!\\nJetzt Beitrag berechnen und sparen! \\nIn nur wenigen Klicks unter:\\nwgv.de/fahrrad\\nJETZT NEU!\\nSchon für\\ngünstige \\n4,38 €  \\nim Monat*\\n*  Mindestbeitrag, BASIS -Tarif,  monatliche Zahlweise, inkl. gesetzl. VersicherungsteuerWir machen das schon eine Weile. \\nSeit mehr als 100 Jahren kümmern wir uns um die \\nWünsche unserer Kunden. Darauf sind wir nicht nur \\nstolz. Sondern wir haben die Zeit auch effektiv genutzt, \\num herauszufinden, was eine gute Versicherung aus -\\nmacht. Und wir konzentrieren uns darauf, noch besser \\nzu werden. Denn wir haben Lust, noch lange weiterzu-\\nmachen. Darauf können Sie sich verlassen.Wir haben einen guten Draht zu Ihnen. \\nWenn Sie uns brauchen, sind wir für Sie da. Entweder \\ndirekt am Telefon, bequem per Internet oder persön -\\nlich vor Ort. Wir handeln  schnell, effektiv und unbüro-\\nkratisch.Wir lassen Sie nicht im Regen stehen.\\nWie auch immer Ihr Versicherungsschutz aussehen \\nsoll: Bei der WGV haben Sie die freie Wahl. Alle unsere \\nAngebote orientieren sich an Ihren Wünschen und Be-\\ndürfnissen. Und wenn tat sächlich mal was passiert, \\nhelfen wir Ihnen garantiert weiter.NOCH MEHR GRÜNDE,  \\nDIE FÜR DIE WGV SPRECHEN.', mimetype='text/plain', start_char_idx=None, end_char_idx=None, text_template='{metadata_str}\\n\\n{content}', metadata_template='{key}: {value}', metadata_seperator='\\n'), Document(id_='eb6f1b25-8ebb-4f86-866d-677df3413392', embedding=None, metadata={'page_label': '4', 'file_name': 'fahrrad.pdf', 'file_path': 'c:\\\\Users\\\\aydem\\\\Documents\\\\salesassistent\\\\dataset\\\\test\\\\fahrrad.pdf', 'file_type': 'application/pdf', 'file_size': 1280862, 'creation_date': '2024-07-12', 'last_modified_date': '2024-05-22'}, excluded_embed_metadata_keys=['file_name', 'file_type', 'file_size', 'creation_date', 'last_modified_date', 'last_accessed_date'], excluded_llm_metadata_keys=['file_name', 'file_type', 'file_size', 'creation_date', 'last_modified_date', 'last_accessed_date'], relationships={}, text='Die Leistungsbeschreibungen in diesem Prospekt sind lediglich eine Kurzübersicht. Für den  \\nVersicherungsschutz ist ausschließlich der Wortlaut der Versicherungsbedingungen maßgebend. \\n4000-3901.0324Anschrift:\\nWGV Versicherung\\n70164 Stuttgart\\nWGV Vermittler in Ihrer Nähe:\\nwgv.de/vor-ort\\nService-Hotline:\\n0711 1695-1650\\nMo. – Fr. von 7.45 bis 19.00 Uhr  \\nSamstag von 9.00 bis 14.00 Uhr\\nkundenservice@wgv.deUNSER VERSICHERUNGS-\\nANGEBOT IM ÜBERBLICK.\\nFAHRZEUGE .  \\nAuto, Motorrad, Young&Oldtimer, Moped, Roller, E-Scooter,  \\nWohnmobil, Anhänger, Wohnwagen, YoungDriver, Sonderfahrzeuge\\nHAFTPFLICHT.   \\nFür Privatleute, Hunde- und Pferdehalter, Bauherren, Haus- und  \\nGrundbesitzer, Beschäftigte im öffentlichen Dienst\\nZUHAUSE.  \\nWohngebäude, Hausrat, Bauleistung, Glas, Cyberversicherung\\nUNTERWEGS.  \\nFahrrad, Auslandskrankenversicherung\\nVORSORGE.  \\nRisiko-Leben, Kapital-Leben, Rente, betriebliche Altersvorsorge,  \\nBerufsunfähigkeit, Sterbegeld\\nGESUNDHEIT.  \\nZahnzusatz, stationäre Zusatzversicherung, ambulante Zusatz -\\nversicherung, Unfall\\nRECHTSSCHUTZ. \\nFür Privat, Beruf, Verkehr, Wohneigentümer, Mieter und Vermieter,  \\nStarter-Rechtsschutz', mimetype='text/plain', start_char_idx=None, end_char_idx=None, text_template='{metadata_str}\\n\\n{content}', metadata_template='{key}: {value}', metadata_seperator='\\n')]\n"
     ]
    }
   ],
   "source": [
    "print(documents)"
   ]
  },
  {
   "cell_type": "code",
   "execution_count": 8,
   "metadata": {},
   "outputs": [],
   "source": [
    "# generator with openai models\n",
    "generator_llm = ChatOpenAI(model=\"gpt-3.5-turbo-16k\")\n",
    "critic_llm = ChatOpenAI(model=\"gpt-4\")\n",
    "embeddings = OpenAIEmbeddings()"
   ]
  },
  {
   "cell_type": "code",
   "execution_count": 23,
   "metadata": {},
   "outputs": [],
   "source": [
    "generator = TestsetGenerator.from_langchain(\n",
    "    generator_llm,\n",
    "    critic_llm,\n",
    "    embeddings\n",
    ")"
   ]
  },
  {
   "cell_type": "code",
   "execution_count": 10,
   "metadata": {},
   "outputs": [],
   "source": [
    "distributions = {\n",
    "    simple: 0.5,\n",
    "    multi_context: 0.4,\n",
    "    reasoning: 0.1\n",
    "}"
   ]
  },
  {
   "cell_type": "code",
   "execution_count": 28,
   "metadata": {},
   "outputs": [
    {
     "name": "stderr",
     "output_type": "stream",
     "text": [
      "Exception in thread Thread-13:\n",
      "Traceback (most recent call last):\n",
      "  File \"c:\\Users\\aydem\\AppData\\Local\\Programs\\Python\\Python312\\Lib\\threading.py\", line 1073, in _bootstrap_inner\n",
      "    self.run()\n",
      "  File \"c:\\Users\\aydem\\AppData\\Local\\Programs\\Python\\Python312\\Lib\\site-packages\\ragas\\executor.py\", line 87, in run\n",
      "    results = self.loop.run_until_complete(self._aresults())\n",
      "              ^^^^^^^^^^^^^^^^^^^^^^^^^^^^^^^^^^^^^^^^^^^^^^\n",
      "  File \"c:\\Users\\aydem\\AppData\\Local\\Programs\\Python\\Python312\\Lib\\asyncio\\base_events.py\", line 663, in run_until_complete\n",
      "    self._check_running()\n",
      "  File \"c:\\Users\\aydem\\AppData\\Local\\Programs\\Python\\Python312\\Lib\\asyncio\\base_events.py\", line 622, in _check_running\n",
      "    raise RuntimeError('This event loop is already running')\n",
      "RuntimeError: This event loop is already running\n"
     ]
    },
    {
     "ename": "ExceptionInRunner",
     "evalue": "The runner thread which was running the jobs raised an exeception. Read the traceback above to debug it. You can also pass `raise_exceptions=False` incase you want to show only a warning message instead.",
     "output_type": "error",
     "traceback": [
      "\u001b[1;31m---------------------------------------------------------------------------\u001b[0m",
      "\u001b[1;31mExceptionInRunner\u001b[0m                         Traceback (most recent call last)",
      "Cell \u001b[1;32mIn[28], line 2\u001b[0m\n\u001b[0;32m      1\u001b[0m \u001b[38;5;66;03m# generate testset\u001b[39;00m\n\u001b[1;32m----> 2\u001b[0m testset \u001b[38;5;241m=\u001b[39m \u001b[43mgenerator\u001b[49m\u001b[38;5;241;43m.\u001b[39;49m\u001b[43mgenerate_with_llamaindex_docs\u001b[49m\u001b[43m(\u001b[49m\u001b[43mdocuments\u001b[49m\u001b[43m,\u001b[49m\u001b[43m \u001b[49m\u001b[38;5;241;43m100\u001b[39;49m\u001b[43m,\u001b[49m\u001b[43m \u001b[49m\u001b[43mdistributions\u001b[49m\u001b[43m)\u001b[49m\n\u001b[0;32m      3\u001b[0m testset\u001b[38;5;241m.\u001b[39mto_pandas()\n",
      "File \u001b[1;32mc:\\Users\\aydem\\AppData\\Local\\Programs\\Python\\Python312\\Lib\\site-packages\\ragas\\testset\\generator.py:179\u001b[0m, in \u001b[0;36mTestsetGenerator.generate_with_llamaindex_docs\u001b[1;34m(self, documents, test_size, distributions, with_debugging_logs, is_async, raise_exceptions, run_config)\u001b[0m\n\u001b[0;32m    177\u001b[0m distributions \u001b[38;5;241m=\u001b[39m distributions \u001b[38;5;129;01mor\u001b[39;00m {}\n\u001b[0;32m    178\u001b[0m \u001b[38;5;66;03m# chunk documents and add to docstore\u001b[39;00m\n\u001b[1;32m--> 179\u001b[0m \u001b[38;5;28;43mself\u001b[39;49m\u001b[38;5;241;43m.\u001b[39;49m\u001b[43mdocstore\u001b[49m\u001b[38;5;241;43m.\u001b[39;49m\u001b[43madd_documents\u001b[49m\u001b[43m(\u001b[49m\n\u001b[0;32m    180\u001b[0m \u001b[43m    \u001b[49m\u001b[43m[\u001b[49m\u001b[43mDocument\u001b[49m\u001b[38;5;241;43m.\u001b[39;49m\u001b[43mfrom_llamaindex_document\u001b[49m\u001b[43m(\u001b[49m\u001b[43mdoc\u001b[49m\u001b[43m)\u001b[49m\u001b[43m \u001b[49m\u001b[38;5;28;43;01mfor\u001b[39;49;00m\u001b[43m \u001b[49m\u001b[43mdoc\u001b[49m\u001b[43m \u001b[49m\u001b[38;5;129;43;01min\u001b[39;49;00m\u001b[43m \u001b[49m\u001b[43mdocuments\u001b[49m\u001b[43m]\u001b[49m\n\u001b[0;32m    181\u001b[0m \u001b[43m\u001b[49m\u001b[43m)\u001b[49m\n\u001b[0;32m    183\u001b[0m \u001b[38;5;28;01mreturn\u001b[39;00m \u001b[38;5;28mself\u001b[39m\u001b[38;5;241m.\u001b[39mgenerate(\n\u001b[0;32m    184\u001b[0m     test_size\u001b[38;5;241m=\u001b[39mtest_size,\n\u001b[0;32m    185\u001b[0m     distributions\u001b[38;5;241m=\u001b[39mdistributions,\n\u001b[1;32m   (...)\u001b[0m\n\u001b[0;32m    189\u001b[0m     raise_exceptions\u001b[38;5;241m=\u001b[39mraise_exceptions,\n\u001b[0;32m    190\u001b[0m )\n",
      "File \u001b[1;32mc:\\Users\\aydem\\AppData\\Local\\Programs\\Python\\Python312\\Lib\\site-packages\\ragas\\testset\\docstore.py:215\u001b[0m, in \u001b[0;36mInMemoryDocumentStore.add_documents\u001b[1;34m(self, docs, show_progress)\u001b[0m\n\u001b[0;32m    210\u001b[0m \u001b[38;5;66;03m# split documents with self.splitter into smaller nodes\u001b[39;00m\n\u001b[0;32m    211\u001b[0m nodes \u001b[38;5;241m=\u001b[39m [\n\u001b[0;32m    212\u001b[0m     Node\u001b[38;5;241m.\u001b[39mfrom_langchain_document(d)\n\u001b[0;32m    213\u001b[0m     \u001b[38;5;28;01mfor\u001b[39;00m d \u001b[38;5;129;01min\u001b[39;00m \u001b[38;5;28mself\u001b[39m\u001b[38;5;241m.\u001b[39msplitter\u001b[38;5;241m.\u001b[39mtransform_documents(docs)\n\u001b[0;32m    214\u001b[0m ]\n\u001b[1;32m--> 215\u001b[0m \u001b[38;5;28;43mself\u001b[39;49m\u001b[38;5;241;43m.\u001b[39;49m\u001b[43madd_nodes\u001b[49m\u001b[43m(\u001b[49m\u001b[43mnodes\u001b[49m\u001b[43m,\u001b[49m\u001b[43m \u001b[49m\u001b[43mshow_progress\u001b[49m\u001b[38;5;241;43m=\u001b[39;49m\u001b[43mshow_progress\u001b[49m\u001b[43m)\u001b[49m\n",
      "File \u001b[1;32mc:\\Users\\aydem\\AppData\\Local\\Programs\\Python\\Python312\\Lib\\site-packages\\ragas\\testset\\docstore.py:254\u001b[0m, in \u001b[0;36mInMemoryDocumentStore.add_nodes\u001b[1;34m(self, nodes, show_progress)\u001b[0m\n\u001b[0;32m    252\u001b[0m results \u001b[38;5;241m=\u001b[39m executor\u001b[38;5;241m.\u001b[39mresults()\n\u001b[0;32m    253\u001b[0m \u001b[38;5;28;01mif\u001b[39;00m \u001b[38;5;129;01mnot\u001b[39;00m results:\n\u001b[1;32m--> 254\u001b[0m     \u001b[38;5;28;01mraise\u001b[39;00m ExceptionInRunner()\n\u001b[0;32m    256\u001b[0m \u001b[38;5;28;01mfor\u001b[39;00m i, n \u001b[38;5;129;01min\u001b[39;00m \u001b[38;5;28menumerate\u001b[39m(nodes):\n\u001b[0;32m    257\u001b[0m     \u001b[38;5;28;01mif\u001b[39;00m i \u001b[38;5;129;01min\u001b[39;00m nodes_to_embed\u001b[38;5;241m.\u001b[39mkeys():\n",
      "\u001b[1;31mExceptionInRunner\u001b[0m: The runner thread which was running the jobs raised an exeception. Read the traceback above to debug it. You can also pass `raise_exceptions=False` incase you want to show only a warning message instead."
     ]
    },
    {
     "name": "stderr",
     "output_type": "stream",
     "text": [
      "C:\\Users\\aydem\\AppData\\Roaming\\Python\\Python312\\site-packages\\ipykernel\\iostream.py:133: RuntimeWarning: coroutine 'as_completed.<locals>.sema_coro' was never awaited\n",
      "  for thread, socket in list(self._event_pipes.items()):\n",
      "RuntimeWarning: Enable tracemalloc to get the object allocation traceback\n"
     ]
    }
   ],
   "source": [
    "# generate testset\n",
    "testset = generator.generate_with_llamaindex_docs(documents, 100, distributions)\n",
    "testset.to_pandas()"
   ]
  },
  {
   "cell_type": "code",
   "execution_count": 25,
   "metadata": {},
   "outputs": [
    {
     "name": "stdout",
     "output_type": "stream",
     "text": [
      "['__annotations__', '__class__', '__dataclass_fields__', '__dataclass_params__', '__delattr__', '__dict__', '__dir__', '__doc__', '__eq__', '__format__', '__ge__', '__getattribute__', '__getstate__', '__gt__', '__hash__', '__init__', '__init_subclass__', '__le__', '__lt__', '__match_args__', '__module__', '__ne__', '__new__', '__reduce__', '__reduce_ex__', '__repr__', '__setattr__', '__sizeof__', '__str__', '__subclasshook__', '__weakref__', 'adapt', 'critic_llm', 'docstore', 'embeddings', 'from_langchain', 'from_llama_index', 'generate', 'generate_with_langchain_docs', 'generate_with_llamaindex_docs', 'generator_llm', 'init_evolution', 'save', 'with_openai']\n"
     ]
    }
   ],
   "source": [
    "print(dir(generator))"
   ]
  }
 ],
 "metadata": {
  "kernelspec": {
   "display_name": "Python 3",
   "language": "python",
   "name": "python3"
  },
  "language_info": {
   "codemirror_mode": {
    "name": "ipython",
    "version": 3
   },
   "file_extension": ".py",
   "mimetype": "text/x-python",
   "name": "python",
   "nbconvert_exporter": "python",
   "pygments_lexer": "ipython3",
   "version": "3.12.3"
  }
 },
 "nbformat": 4,
 "nbformat_minor": 2
}
