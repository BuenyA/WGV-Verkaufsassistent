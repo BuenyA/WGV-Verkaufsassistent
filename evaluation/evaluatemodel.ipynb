{
 "cells": [
  {
   "cell_type": "code",
   "execution_count": 28,
   "metadata": {},
   "outputs": [],
   "source": [
    "import os\n",
    "import pickle\n",
    "import nest_asyncio\n",
    "from llama_index.core import VectorStoreIndex, SimpleDirectoryReader\n",
    "from llama_index.core.settings import Settings\n",
    "from llama_index.llms.openai import OpenAI\n",
    "from llama_index.embeddings.openai import OpenAIEmbedding\n",
    "from ragas.integrations.llama_index import evaluate\n",
    "\n",
    "nest_asyncio.apply()\n",
    "os.environ[\"OPENAI_API_KEY\"] = \"sk-proj-VpoWx9hxbydMWtacix9qT3BlbkFJUeNz0FM5JGxVptcW5N6b\""
   ]
  },
  {
   "cell_type": "markdown",
   "metadata": {},
   "source": [
    "# Load Dataset"
   ]
  },
  {
   "cell_type": "code",
   "execution_count": 3,
   "metadata": {},
   "outputs": [],
   "source": [
    "# Laden des Objekts\n",
    "with open('test_dataset.pkl', 'rb') as file:\n",
    "    loaded_test_dataset = pickle.load(file)"
   ]
  },
  {
   "cell_type": "code",
   "execution_count": 7,
   "metadata": {},
   "outputs": [
    {
     "data": {
      "text/html": [
       "<div>\n",
       "<style scoped>\n",
       "    .dataframe tbody tr th:only-of-type {\n",
       "        vertical-align: middle;\n",
       "    }\n",
       "\n",
       "    .dataframe tbody tr th {\n",
       "        vertical-align: top;\n",
       "    }\n",
       "\n",
       "    .dataframe thead th {\n",
       "        text-align: right;\n",
       "    }\n",
       "</style>\n",
       "<table border=\"1\" class=\"dataframe\">\n",
       "  <thead>\n",
       "    <tr style=\"text-align: right;\">\n",
       "      <th></th>\n",
       "      <th>question</th>\n",
       "      <th>contexts</th>\n",
       "      <th>ground_truth</th>\n",
       "      <th>evolution_type</th>\n",
       "      <th>metadata</th>\n",
       "      <th>episode_done</th>\n",
       "    </tr>\n",
       "  </thead>\n",
       "  <tbody>\n",
       "    <tr>\n",
       "      <th>0</th>\n",
       "      <td>What is included in the insurance coverage for...</td>\n",
       "      <td>[ \\nist ausschließlich der Wortlaut der Versic...</td>\n",
       "      <td>The answer to given question is not present in...</td>\n",
       "      <td>simple</td>\n",
       "      <td>[{'page_label': '3', 'file_name': 'fahrrad.pdf...</td>\n",
       "      <td>True</td>\n",
       "    </tr>\n",
       "    <tr>\n",
       "      <th>1</th>\n",
       "      <td>What services are included in the \"Telefonisch...</td>\n",
       "      <td>[  = versichert\\nDiese Leistungsübersicht ist ...</td>\n",
       "      <td>Telefonische Erstberatung is included in the s...</td>\n",
       "      <td>simple</td>\n",
       "      <td>[{'page_label': '3', 'file_name': 'cyberversic...</td>\n",
       "      <td>True</td>\n",
       "    </tr>\n",
       "    <tr>\n",
       "      <th>2</th>\n",
       "      <td>What determines the bike insurance premium?</td>\n",
       "      <td>[Leistungen BASIS-Tarif OPTIMAL-Tarif\\nEntschä...</td>\n",
       "      <td>The height of the insurance premium depends on...</td>\n",
       "      <td>reasoning</td>\n",
       "      <td>[{'page_label': '3', 'file_name': 'fahrrad.pdf...</td>\n",
       "      <td>True</td>\n",
       "    </tr>\n",
       "    <tr>\n",
       "      <th>3</th>\n",
       "      <td>What are the benefits of WGV's new bicycle ins...</td>\n",
       "      <td>[wgv.de/fahrrad\\nDIE FAHRRAD-\\nVERSICHERUNG DE...</td>\n",
       "      <td>The benefits of WGV's new bicycle insurance ta...</td>\n",
       "      <td>multi_context</td>\n",
       "      <td>[{'page_label': '1', 'file_name': 'fahrrad.pdf...</td>\n",
       "      <td>True</td>\n",
       "    </tr>\n",
       "    <tr>\n",
       "      <th>4</th>\n",
       "      <td>What is the coverage area of my WGV insurance ...</td>\n",
       "      <td>[Leistungen BASIS-Tarif OPTIMAL-Tarif\\nEntschä...</td>\n",
       "      <td>Weltweite Geltung, zeitlich unbegrenzt bis 12 ...</td>\n",
       "      <td>reasoning</td>\n",
       "      <td>[{'page_label': '3', 'file_name': 'fahrrad.pdf...</td>\n",
       "      <td>True</td>\n",
       "    </tr>\n",
       "  </tbody>\n",
       "</table>\n",
       "</div>"
      ],
      "text/plain": [
       "                                            question  \\\n",
       "0  What is included in the insurance coverage for...   \n",
       "1  What services are included in the \"Telefonisch...   \n",
       "2        What determines the bike insurance premium?   \n",
       "3  What are the benefits of WGV's new bicycle ins...   \n",
       "4  What is the coverage area of my WGV insurance ...   \n",
       "\n",
       "                                            contexts  \\\n",
       "0  [ \\nist ausschließlich der Wortlaut der Versic...   \n",
       "1  [  = versichert\\nDiese Leistungsübersicht ist ...   \n",
       "2  [Leistungen BASIS-Tarif OPTIMAL-Tarif\\nEntschä...   \n",
       "3  [wgv.de/fahrrad\\nDIE FAHRRAD-\\nVERSICHERUNG DE...   \n",
       "4  [Leistungen BASIS-Tarif OPTIMAL-Tarif\\nEntschä...   \n",
       "\n",
       "                                        ground_truth evolution_type  \\\n",
       "0  The answer to given question is not present in...         simple   \n",
       "1  Telefonische Erstberatung is included in the s...         simple   \n",
       "2  The height of the insurance premium depends on...      reasoning   \n",
       "3  The benefits of WGV's new bicycle insurance ta...  multi_context   \n",
       "4  Weltweite Geltung, zeitlich unbegrenzt bis 12 ...      reasoning   \n",
       "\n",
       "                                            metadata  episode_done  \n",
       "0  [{'page_label': '3', 'file_name': 'fahrrad.pdf...          True  \n",
       "1  [{'page_label': '3', 'file_name': 'cyberversic...          True  \n",
       "2  [{'page_label': '3', 'file_name': 'fahrrad.pdf...          True  \n",
       "3  [{'page_label': '1', 'file_name': 'fahrrad.pdf...          True  \n",
       "4  [{'page_label': '3', 'file_name': 'fahrrad.pdf...          True  "
      ]
     },
     "execution_count": 7,
     "metadata": {},
     "output_type": "execute_result"
    }
   ],
   "source": [
    "df = loaded_test_dataset.to_pandas()\n",
    "df.head()"
   ]
  },
  {
   "cell_type": "markdown",
   "metadata": {},
   "source": [
    "# Building the QueryEngine"
   ]
  },
  {
   "cell_type": "code",
   "execution_count": 11,
   "metadata": {},
   "outputs": [],
   "source": [
    "documents = SimpleDirectoryReader(\"C:/Users/aydem/Documents/salesassistent/dataset/test/\").load_data()\n",
    "vector_index = VectorStoreIndex.from_documents(documents)\n",
    "query_engine = vector_index.as_query_engine()"
   ]
  },
  {
   "cell_type": "code",
   "execution_count": 20,
   "metadata": {},
   "outputs": [
    {
     "data": {
      "text/plain": [
       "'What is the coverage area of my WGV insurance policy?'"
      ]
     },
     "execution_count": 20,
     "metadata": {},
     "output_type": "execute_result"
    }
   ],
   "source": [
    "# convert it to pandas dataset\n",
    "df = loaded_test_dataset.to_pandas()\n",
    "df[\"question\"][4]"
   ]
  },
  {
   "cell_type": "code",
   "execution_count": 21,
   "metadata": {},
   "outputs": [
    {
     "name": "stdout",
     "output_type": "stream",
     "text": [
      "Verschleiss (wear and tear) is covered in both the BASIS and OPTIMAL tariffs.\n"
     ]
    }
   ],
   "source": [
    "response_vector = query_engine.query(df[\"question\"][0])\n",
    "\n",
    "print(response_vector)"
   ]
  },
  {
   "cell_type": "markdown",
   "metadata": {},
   "source": [
    "# Evaluation"
   ]
  },
  {
   "cell_type": "code",
   "execution_count": 24,
   "metadata": {},
   "outputs": [],
   "source": [
    "from ragas.metrics import (\n",
    "    faithfulness,\n",
    "    answer_relevancy,\n",
    "    context_precision,\n",
    "    context_recall,\n",
    ")\n",
    "from ragas.metrics.critique import harmfulness\n",
    "\n",
    "metrics = [\n",
    "    faithfulness,\n",
    "    answer_relevancy,\n",
    "    context_precision,\n",
    "    context_recall,\n",
    "    harmfulness,\n",
    "]\n",
    "\n",
    "evaluator_llm = OpenAI(model=\"gpt-3.5-turbo\")"
   ]
  },
  {
   "cell_type": "code",
   "execution_count": 26,
   "metadata": {},
   "outputs": [
    {
     "data": {
      "text/plain": [
       "['The answer to given question is not present in context',\n",
       " 'Telefonische Erstberatung is included in the services of the WGV Cyberversicherung.',\n",
       " 'The height of the insurance premium depends on the chosen tariff and the value of the bike.',\n",
       " \"The benefits of WGV's new bicycle insurance tariff include improved coverage and benefits in the updated policy.\",\n",
       " 'Weltweite Geltung, zeitlich unbegrenzt bis 12 Monate']"
      ]
     },
     "execution_count": 26,
     "metadata": {},
     "output_type": "execute_result"
    }
   ],
   "source": [
    "# convert to HF dataset\n",
    "ds = loaded_test_dataset.to_dataset()\n",
    "\n",
    "ds_dict = ds.to_dict()\n",
    "ds_dict[\"question\"]\n",
    "ds_dict[\"ground_truth\"]"
   ]
  },
  {
   "cell_type": "code",
   "execution_count": 29,
   "metadata": {},
   "outputs": [
    {
     "name": "stderr",
     "output_type": "stream",
     "text": [
      "Running Query Engine:   0%|          | 0/5 [00:00<?, ?it/s]"
     ]
    },
    {
     "name": "stderr",
     "output_type": "stream",
     "text": [
      "Running Query Engine: 100%|██████████| 5/5 [00:03<00:00,  1.46it/s]\n",
      "Evaluating:   0%|          | 0/25 [00:00<?, ?it/s]n values greater than 1 not support for LlamaIndex LLMs\n",
      "n values greater than 1 not support for LlamaIndex LLMs\n",
      "n values greater than 1 not support for LlamaIndex LLMs\n",
      "Evaluating:   4%|▍         | 1/25 [00:02<01:09,  2.90s/it]n values greater than 1 not support for LlamaIndex LLMs\n",
      "n values greater than 1 not support for LlamaIndex LLMs\n",
      "Evaluating: 100%|██████████| 25/25 [00:10<00:00,  2.46it/s]\n"
     ]
    }
   ],
   "source": [
    "result = evaluate(\n",
    "    query_engine=query_engine,\n",
    "    metrics=metrics,\n",
    "    dataset=ds_dict,\n",
    "    llm=evaluator_llm,\n",
    "    embeddings=OpenAIEmbedding(),\n",
    ")"
   ]
  },
  {
   "cell_type": "code",
   "execution_count": 30,
   "metadata": {},
   "outputs": [
    {
     "name": "stdout",
     "output_type": "stream",
     "text": [
      "{'faithfulness': 0.6400, 'answer_relevancy': 0.9681, 'context_precision': 0.7000, 'context_recall': 0.6000, 'harmfulness': 0.0000}\n"
     ]
    }
   ],
   "source": [
    "print(result)"
   ]
  },
  {
   "cell_type": "code",
   "execution_count": 31,
   "metadata": {},
   "outputs": [
    {
     "data": {
      "text/html": [
       "<div>\n",
       "<style scoped>\n",
       "    .dataframe tbody tr th:only-of-type {\n",
       "        vertical-align: middle;\n",
       "    }\n",
       "\n",
       "    .dataframe tbody tr th {\n",
       "        vertical-align: top;\n",
       "    }\n",
       "\n",
       "    .dataframe thead th {\n",
       "        text-align: right;\n",
       "    }\n",
       "</style>\n",
       "<table border=\"1\" class=\"dataframe\">\n",
       "  <thead>\n",
       "    <tr style=\"text-align: right;\">\n",
       "      <th></th>\n",
       "      <th>question</th>\n",
       "      <th>contexts</th>\n",
       "      <th>answer</th>\n",
       "      <th>ground_truth</th>\n",
       "      <th>faithfulness</th>\n",
       "      <th>answer_relevancy</th>\n",
       "      <th>context_precision</th>\n",
       "      <th>context_recall</th>\n",
       "      <th>harmfulness</th>\n",
       "    </tr>\n",
       "  </thead>\n",
       "  <tbody>\n",
       "    <tr>\n",
       "      <th>0</th>\n",
       "      <td>What is included in the insurance coverage for...</td>\n",
       "      <td>[Leistungen BASIS-Tarif OPTIMAL-Tarif\\nEntschä...</td>\n",
       "      <td>Verschleiss (wear and tear) is covered in both...</td>\n",
       "      <td>The answer to given question is not present in...</td>\n",
       "      <td>1.0</td>\n",
       "      <td>0.897810</td>\n",
       "      <td>0.0</td>\n",
       "      <td>0.0</td>\n",
       "      <td>0</td>\n",
       "    </tr>\n",
       "    <tr>\n",
       "      <th>1</th>\n",
       "      <td>What services are included in the \"Telefonisch...</td>\n",
       "      <td>[= versichert\\nDiese Leistungsübersicht ist le...</td>\n",
       "      <td>The services included in the \"Telefonische Ers...</td>\n",
       "      <td>Telefonische Erstberatung is included in the s...</td>\n",
       "      <td>0.2</td>\n",
       "      <td>0.999348</td>\n",
       "      <td>1.0</td>\n",
       "      <td>1.0</td>\n",
       "      <td>0</td>\n",
       "    </tr>\n",
       "    <tr>\n",
       "      <th>2</th>\n",
       "      <td>What determines the bike insurance premium?</td>\n",
       "      <td>[Leistungen BASIS-Tarif OPTIMAL-Tarif\\nEntschä...</td>\n",
       "      <td>The chosen tariff and the value of the bike de...</td>\n",
       "      <td>The height of the insurance premium depends on...</td>\n",
       "      <td>1.0</td>\n",
       "      <td>1.000000</td>\n",
       "      <td>1.0</td>\n",
       "      <td>1.0</td>\n",
       "      <td>0</td>\n",
       "    </tr>\n",
       "    <tr>\n",
       "      <th>3</th>\n",
       "      <td>What are the benefits of WGV's new bicycle ins...</td>\n",
       "      <td>[= versichert – = nicht versichert\\nDiese Leis...</td>\n",
       "      <td>The benefits of WGV's new bicycle insurance ta...</td>\n",
       "      <td>The benefits of WGV's new bicycle insurance ta...</td>\n",
       "      <td>0.0</td>\n",
       "      <td>0.979170</td>\n",
       "      <td>0.5</td>\n",
       "      <td>1.0</td>\n",
       "      <td>0</td>\n",
       "    </tr>\n",
       "    <tr>\n",
       "      <th>4</th>\n",
       "      <td>What is the coverage area of my WGV insurance ...</td>\n",
       "      <td>[Die Leistungsbeschreibungen in diesem Prospek...</td>\n",
       "      <td>The coverage areas of your WGV insurance polic...</td>\n",
       "      <td>Weltweite Geltung, zeitlich unbegrenzt bis 12 ...</td>\n",
       "      <td>1.0</td>\n",
       "      <td>0.964000</td>\n",
       "      <td>1.0</td>\n",
       "      <td>0.0</td>\n",
       "      <td>0</td>\n",
       "    </tr>\n",
       "  </tbody>\n",
       "</table>\n",
       "</div>"
      ],
      "text/plain": [
       "                                            question  \\\n",
       "0  What is included in the insurance coverage for...   \n",
       "1  What services are included in the \"Telefonisch...   \n",
       "2        What determines the bike insurance premium?   \n",
       "3  What are the benefits of WGV's new bicycle ins...   \n",
       "4  What is the coverage area of my WGV insurance ...   \n",
       "\n",
       "                                            contexts  \\\n",
       "0  [Leistungen BASIS-Tarif OPTIMAL-Tarif\\nEntschä...   \n",
       "1  [= versichert\\nDiese Leistungsübersicht ist le...   \n",
       "2  [Leistungen BASIS-Tarif OPTIMAL-Tarif\\nEntschä...   \n",
       "3  [= versichert – = nicht versichert\\nDiese Leis...   \n",
       "4  [Die Leistungsbeschreibungen in diesem Prospek...   \n",
       "\n",
       "                                              answer  \\\n",
       "0  Verschleiss (wear and tear) is covered in both...   \n",
       "1  The services included in the \"Telefonische Ers...   \n",
       "2  The chosen tariff and the value of the bike de...   \n",
       "3  The benefits of WGV's new bicycle insurance ta...   \n",
       "4  The coverage areas of your WGV insurance polic...   \n",
       "\n",
       "                                        ground_truth  faithfulness  \\\n",
       "0  The answer to given question is not present in...           1.0   \n",
       "1  Telefonische Erstberatung is included in the s...           0.2   \n",
       "2  The height of the insurance premium depends on...           1.0   \n",
       "3  The benefits of WGV's new bicycle insurance ta...           0.0   \n",
       "4  Weltweite Geltung, zeitlich unbegrenzt bis 12 ...           1.0   \n",
       "\n",
       "   answer_relevancy  context_precision  context_recall  harmfulness  \n",
       "0          0.897810                0.0             0.0            0  \n",
       "1          0.999348                1.0             1.0            0  \n",
       "2          1.000000                1.0             1.0            0  \n",
       "3          0.979170                0.5             1.0            0  \n",
       "4          0.964000                1.0             0.0            0  "
      ]
     },
     "execution_count": 31,
     "metadata": {},
     "output_type": "execute_result"
    }
   ],
   "source": [
    "result.to_pandas()"
   ]
  }
 ],
 "metadata": {
  "kernelspec": {
   "display_name": "Python 3",
   "language": "python",
   "name": "python3"
  },
  "language_info": {
   "codemirror_mode": {
    "name": "ipython",
    "version": 3
   },
   "file_extension": ".py",
   "mimetype": "text/x-python",
   "name": "python",
   "nbconvert_exporter": "python",
   "pygments_lexer": "ipython3",
   "version": "3.12.3"
  }
 },
 "nbformat": 4,
 "nbformat_minor": 2
}
